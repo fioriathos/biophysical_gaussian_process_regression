{
 "cells": [
  {
   "cell_type": "code",
   "execution_count": 1,
   "metadata": {},
   "outputs": [],
   "source": [
    "import numpy as np\n",
    "from biophysical_gaussian_process.likelihood import total_likelihood as total_likelihood\n",
    "import generate_growth_and_expression_dynamic as gge\n"
   ]
  },
  {
   "cell_type": "markdown",
   "metadata": {},
   "source": [
    "Generate synthetic data (this simulates MoMa csv files we do have)"
   ]
  },
  {
   "cell_type": "code",
   "execution_count": 2,
   "metadata": {},
   "outputs": [],
   "source": [
    "ml=1e-02;gl=1/100;sl2=1e-07;sm2=1e-3;mq=10;gq=1/100;sq2=0.1;DV=2;beta=1e-03;sgm2=5e3;dtsim=1;dt=3;b=beta\n",
    "sx2=sm2;sg2=sgm2; sdx2=sx2;sdg2=sg2\n",
    "df = gge.similar_frame(ml,gl,sl2,sm2,mq,gq,sq2,DV,beta,shape=(1,180),dtsim=dtsim,gfp_sym=True)\n",
    "df = df.loc[(df['time_sec']/60)%dt==0.0]\n",
    "df['gfp_noise']=np.random.normal(df['gfp'],scale=np.sqrt(sgm2))\n",
    "df['log_leng_no_noise'] = np.log(df['leng_no_noise'])\n",
    "df['log_leng'] = np.random.normal(df['log_leng_no_noise'],scale=np.sqrt(sm2))\n",
    "df['time_min']=df['time_sec']/60"
   ]
  },
  {
   "cell_type": "markdown",
   "metadata": {},
   "source": [
    "Compute initial distributions"
   ]
  },
  {
   "cell_type": "code",
   "execution_count": 3,
   "metadata": {},
   "outputs": [],
   "source": [
    "# Initial mean and Covariance\n",
    "m = df[['log_leng_no_noise','gfp','growth_rate','q_dyn']].iloc[0].values.reshape((4,1))\n",
    "C = df[['log_leng_no_noise','gfp','growth_rate','q_dyn']].cov().values"
   ]
  },
  {
   "cell_type": "markdown",
   "metadata": {},
   "source": [
    "Dataset to compute likelihood"
   ]
  },
  {
   "cell_type": "code",
   "execution_count": 4,
   "metadata": {},
   "outputs": [],
   "source": [
    "Y =  df[['log_leng','gfp_noise','time_min','cell']].values[::5,:]"
   ]
  },
  {
   "cell_type": "markdown",
   "metadata": {},
   "source": [
    "Compute log likelihood (the prints are all the times need to solve the tasks). Most of the time is spent in computing covgg (line 40 file prior_distribution.py). I am now trying to reparametrize this integral in order to increase speed. "
   ]
  },
  {
   "cell_type": "code",
   "execution_count": 5,
   "metadata": {},
   "outputs": [
    {
     "name": "stdout",
     "output_type": "stream",
     "text": [
      "likelihood 0:00:00.015443\n",
      "posterior 0:00:00.004523\n",
      "mean 0:00:00.000370\n",
      "cov 0:00:00.005499\n",
      "part1 0:00:00.579578\n",
      "int 522.0323802468595\n",
      "part1 0:00:00.004573\n",
      "int -2498.5812951570547\n",
      "part1 redone 0:00:00.000114\n",
      "int redone 0.0014980598214039652\n",
      "part2 0:00:00.009224\n",
      "var 0:00:00.594540\n",
      "update 0:00:00.600654\n",
      "likelihood 0:00:00.000152\n",
      "posterior 0:00:00.000085\n",
      "mean 0:00:00.000212\n",
      "cov 0:00:00.003170\n",
      "part1 0:00:00.517950\n",
      "int 658.6566389248219\n",
      "part1 0:00:00.004439\n",
      "int -3189.716402433095\n",
      "part1 redone 0:00:00.000127\n",
      "int redone 0.0018930292133923757\n",
      "part2 0:00:00.008872\n",
      "var 0:00:00.531836\n",
      "update 0:00:00.535390\n",
      "likelihood 0:00:00.000138\n",
      "posterior 0:00:00.000068\n",
      "mean 0:00:00.000210\n",
      "cov 0:00:00.002971\n",
      "part1 0:00:00.490038\n",
      "int 913.8718405029654\n",
      "part1 0:00:00.004896\n",
      "int -4375.319177449556\n",
      "part1 redone 0:00:00.000263\n",
      "int redone 0.0026225752744642693\n",
      "part2 0:00:00.013426\n",
      "var 0:00:00.510689\n",
      "update 0:00:00.514043\n",
      "likelihood 0:00:00.000185\n",
      "posterior 0:00:00.000083\n",
      "mean 0:00:00.000539\n",
      "cov 0:00:00.003073\n",
      "part1 0:00:00.453510\n",
      "int 1240.8026808495947\n",
      "part1 0:00:00.004603\n",
      "int -5949.960302247717\n",
      "part1 redone 0:00:00.000112\n",
      "int redone 0.00356152481674762\n",
      "part2 0:00:00.008538\n",
      "var 0:00:00.467583\n",
      "update 0:00:00.472684\n",
      "likelihood 0:00:00.000141\n",
      "posterior 0:00:00.000083\n",
      "mean 0:00:00.000211\n",
      "cov 0:00:00.002911\n",
      "part1 0:00:00.457623\n",
      "int 1596.3667405185488\n",
      "part1 0:00:00.004457\n",
      "int -7746.13225368491\n",
      "part1 redone 0:00:00.000202\n",
      "int redone 0.004589273073748292\n",
      "part2 0:00:00.008699\n",
      "var 0:00:00.471691\n",
      "update 0:00:00.475492\n",
      "div 0:00:00.001518\n",
      "likelihood 0:00:00.000151\n",
      "posterior 0:00:00.000066\n",
      "mean 0:00:00.000260\n",
      "cov 0:00:00.002974\n",
      "part1 0:00:00.456170\n",
      "int 621.3395003411024\n",
      "part1 0:00:00.004497\n",
      "int -2927.0922509725574\n",
      "part1 redone 0:00:00.000110\n",
      "int redone 0.0017793206537856524\n",
      "part2 0:00:00.008939\n",
      "var 0:00:00.470072\n",
      "update 0:00:00.473670\n",
      "likelihood 0:00:00.000126\n",
      "posterior 0:00:00.000058\n",
      "mean 0:00:00.000207\n",
      "cov 0:00:00.002919\n",
      "part1 0:00:00.459876\n",
      "int 861.492998534461\n",
      "part1 0:00:00.005276\n",
      "int -4063.5933890662113\n",
      "part1 redone 0:00:00.000113\n",
      "int redone 0.002467451971344347\n",
      "part2 0:00:00.008657\n",
      "var 0:00:00.474653\n",
      "update 0:00:00.477891\n",
      "likelihood 0:00:00.000129\n",
      "posterior 0:00:00.000059\n",
      "mean 0:00:00.000210\n",
      "cov 0:00:00.002867\n",
      "part1 0:00:00.461773\n",
      "int 1162.4580734377225\n",
      "part1 0:00:00.004517\n",
      "int -5526.4720166629195\n",
      "part1 redone 0:00:00.000111\n",
      "int redone 0.003332883020518263\n",
      "part2 0:00:00.008671\n",
      "var 0:00:00.475489\n",
      "update 0:00:00.478677\n",
      "likelihood 0:00:00.000126\n",
      "posterior 0:00:00.000059\n",
      "total time 0:00:04.055247\n"
     ]
    }
   ],
   "source": [
    "ll= total_likelihood(Y,m,C,ml,gl,sl2,mq,gq,sq2,b,sx2,sg2,sdx2,sdg2)\n"
   ]
  },
  {
   "cell_type": "code",
   "execution_count": null,
   "metadata": {},
   "outputs": [],
   "source": []
  }
 ],
 "metadata": {
  "kernelspec": {
   "display_name": "Python 3",
   "language": "python",
   "name": "python3"
  },
  "language_info": {
   "codemirror_mode": {
    "name": "ipython",
    "version": 3
   },
   "file_extension": ".py",
   "mimetype": "text/x-python",
   "name": "python",
   "nbconvert_exporter": "python",
   "pygments_lexer": "ipython3",
   "version": "3.7.6"
  }
 },
 "nbformat": 4,
 "nbformat_minor": 4
}
